{
 "cells": [
  {
   "cell_type": "markdown",
   "id": "b83816d7-4916-427c-bfe5-1658eab3e093",
   "metadata": {},
   "source": [
    "## Number plate detection "
   ]
  },
  {
   "cell_type": "code",
   "execution_count": null,
   "id": "66b629d8-4ed0-4862-b9eb-0a3f8f59ea0e",
   "metadata": {},
   "outputs": [],
   "source": [
    "import cv2\n",
    "import time\n",
    "import numpy as np\n",
    "\n",
    "# Create our body classifier\n",
    "car_classifier = cv2.CascadeClassifier(\"C:\\\\Users\\\\POOJA\\\\Downloads\\\\haarcascade_license_plate_rus_16stages.xml\")\n",
    "\n",
    "# Initiate video capture for video file\n",
    "cap = cv2.VideoCapture(\"C:\\\\Users\\\\POOJA\\\\Downloads\\\\gray1.jpg\")\n",
    "\n",
    "\n",
    "\n",
    "# Loop once video is successfully loaded\n",
    "while cap.isOpened():\n",
    "    \n",
    "    time.sleep(.05)\n",
    "    # Read first frame\n",
    "    ret, frame = cap.read()\n",
    "    gray = cv2.cvtColor(frame, cv2.COLOR_BGR2GRAY)\n",
    "   \n",
    "    # Pass frame to our car classifier\n",
    "    cars = car_classifier.detectMultiScale(gray, 1.4, 2)\n",
    "    \n",
    "    # Extract bounding boxes for any bodies identified\n",
    "    for (x,y,w,h) in cars:\n",
    "        cv2.rectangle(frame, (x, y), (x+w, y+h), (0, 255, 255), 2)\n",
    "        cv2.imshow('Cars', frame)\n",
    "\n",
    "    if cv2.waitKey(1) == 13: #13 is the Enter Key\n",
    "        break\n",
    "\n",
    "cap.release()\n",
    "cv2.destroyAllWindows()\n",
    "cv2.imwrite('output.mp4',input)"
   ]
  },
  {
   "cell_type": "code",
   "execution_count": null,
   "id": "453bca8d-3814-432f-b955-0e0efd665bea",
   "metadata": {},
   "outputs": [],
   "source": []
  }
 ],
 "metadata": {
  "kernelspec": {
   "display_name": "Python 3 (ipykernel)",
   "language": "python",
   "name": "python3"
  },
  "language_info": {
   "codemirror_mode": {
    "name": "ipython",
    "version": 3
   },
   "file_extension": ".py",
   "mimetype": "text/x-python",
   "name": "python",
   "nbconvert_exporter": "python",
   "pygments_lexer": "ipython3",
   "version": "3.11.7"
  }
 },
 "nbformat": 4,
 "nbformat_minor": 5
}
