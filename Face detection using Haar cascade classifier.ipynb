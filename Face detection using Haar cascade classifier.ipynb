{
 "cells": [
  {
   "cell_type": "markdown",
   "id": "c981ec89-4500-48de-af45-64f778bfc965",
   "metadata": {},
   "source": [
    "# Face Detection using HAAR Cascade Classifiers"
   ]
  },
  {
   "cell_type": "code",
   "execution_count": 1,
   "id": "e70da661-ebc1-4318-b0fb-6a8379311d6d",
   "metadata": {},
   "outputs": [],
   "source": [
    "import numpy as np\n",
    "import cv2"
   ]
  },
  {
   "cell_type": "code",
   "execution_count": 3,
   "id": "20277d60-eae0-46be-a267-e98bfe3d3c7b",
   "metadata": {},
   "outputs": [],
   "source": [
    "# We point OpenCV's CascadeClassifier function to where our classifier (XML file format) is stored\n",
    "face_classifier = cv2.CascadeClassifier(r\"C:\\Users\\POOJA\\Downloads\\haarcascade_frontalface_default.xml\")"
   ]
  },
  {
   "cell_type": "code",
   "execution_count": 4,
   "id": "a18d2a73-0930-4f8f-8e8b-06605c30afa1",
   "metadata": {},
   "outputs": [],
   "source": [
    "# Load our image then convert it to grayscale\n",
    "image = cv2.imread(r\"C:\\Users\\POOJA\\OneDrive\\Pictures\\images\\happpy\\6.jpeg\")"
   ]
  },
  {
   "cell_type": "code",
   "execution_count": 5,
   "id": "35b26e6e-2f48-4866-b642-27408b0b0237",
   "metadata": {},
   "outputs": [
    {
     "data": {
      "text/plain": [
       "array([[[ 50,  56,  67],\n",
       "        [ 46,  52,  63],\n",
       "        [ 41,  49,  62],\n",
       "        ...,\n",
       "        [144, 177, 173],\n",
       "        [156, 183, 180],\n",
       "        [159, 183, 181]],\n",
       "\n",
       "       [[ 45,  51,  62],\n",
       "        [ 42,  48,  59],\n",
       "        [ 38,  46,  59],\n",
       "        ...,\n",
       "        [152, 183, 180],\n",
       "        [160, 187, 184],\n",
       "        [160, 184, 182]],\n",
       "\n",
       "       [[ 44,  50,  61],\n",
       "        [ 42,  48,  59],\n",
       "        [ 39,  47,  60],\n",
       "        ...,\n",
       "        [160, 191, 190],\n",
       "        [163, 189, 189],\n",
       "        [155, 179, 179]],\n",
       "\n",
       "       ...,\n",
       "\n",
       "       [[211, 198, 182],\n",
       "        [212, 199, 183],\n",
       "        [213, 200, 184],\n",
       "        ...,\n",
       "        [154, 159, 168],\n",
       "        [154, 159, 168],\n",
       "        [152, 157, 166]],\n",
       "\n",
       "       [[210, 197, 181],\n",
       "        [212, 199, 183],\n",
       "        [212, 199, 183],\n",
       "        ...,\n",
       "        [153, 158, 167],\n",
       "        [153, 158, 167],\n",
       "        [150, 155, 164]],\n",
       "\n",
       "       [[210, 197, 183],\n",
       "        [211, 198, 184],\n",
       "        [211, 198, 184],\n",
       "        ...,\n",
       "        [158, 160, 170],\n",
       "        [158, 161, 169],\n",
       "        [155, 158, 166]]], dtype=uint8)"
      ]
     },
     "execution_count": 5,
     "metadata": {},
     "output_type": "execute_result"
    }
   ],
   "source": [
    "image"
   ]
  },
  {
   "cell_type": "code",
   "execution_count": 6,
   "id": "4e734a15-8d7a-49b0-af24-080d49cd2d2d",
   "metadata": {},
   "outputs": [],
   "source": [
    "gray = cv2.cvtColor(image, cv2.COLOR_BGR2GRAY)"
   ]
  },
  {
   "cell_type": "code",
   "execution_count": 7,
   "id": "a4277a94-1f64-497e-b4e4-1fe4f471a16f",
   "metadata": {},
   "outputs": [
    {
     "data": {
      "text/plain": [
       "array([[ 59,  55,  52, ..., 172, 179, 180],\n",
       "       [ 54,  51,  49, ..., 179, 183, 181],\n",
       "       [ 53,  51,  50, ..., 187, 186, 176],\n",
       "       ...,\n",
       "       [195, 196, 197, ..., 161, 161, 159],\n",
       "       [194, 196, 196, ..., 160, 160, 157],\n",
       "       [194, 195, 195, ..., 163, 163, 160]], dtype=uint8)"
      ]
     },
     "execution_count": 7,
     "metadata": {},
     "output_type": "execute_result"
    }
   ],
   "source": [
    "gray"
   ]
  },
  {
   "cell_type": "code",
   "execution_count": 8,
   "id": "7e079c6b-cc89-4760-9bbd-b60d42b17ff8",
   "metadata": {},
   "outputs": [],
   "source": [
    "# Our classifier returns the ROI of the detected face as a tuple\n",
    "# It stores the top left coordinate and the bottom right coordiantes\n",
    "faces = face_classifier.detectMultiScale(gray,1.3,5)            #rectangle "
   ]
  },
  {
   "cell_type": "code",
   "execution_count": 9,
   "id": "bb1b89e0-0b9a-49cd-9af7-8077f5edfde2",
   "metadata": {},
   "outputs": [
    {
     "data": {
      "text/plain": [
       "array([[447, 180, 242, 242],\n",
       "       [692, 571, 224, 224]])"
      ]
     },
     "execution_count": 9,
     "metadata": {},
     "output_type": "execute_result"
    }
   ],
   "source": [
    "faces"
   ]
  },
  {
   "cell_type": "code",
   "execution_count": null,
   "id": "27a0c535-98e7-4264-9e7e-84f544ed4f01",
   "metadata": {},
   "outputs": [
    {
     "name": "stderr",
     "output_type": "stream",
     "text": [
      "<>:2: SyntaxWarning: \"is\" with a literal. Did you mean \"==\"?\n",
      "<>:2: SyntaxWarning: \"is\" with a literal. Did you mean \"==\"?\n",
      "C:\\Users\\POOJA\\AppData\\Local\\Temp\\ipykernel_12052\\3307698094.py:2: SyntaxWarning: \"is\" with a literal. Did you mean \"==\"?\n",
      "  if faces is():\n"
     ]
    }
   ],
   "source": [
    "# When no faces detected, face_classifier returns and empty tuple\n",
    "if faces is():\n",
    "    print(\"No faces found\")\n",
    "\n",
    "# We iterate through our faces array and draw a rectangle over each face in faces\n",
    "for (x,y,w,h) in faces:\n",
    "    cv2.rectangle(image,(x,y),(x+w,y+h),(127,0,255),2)\n",
    "    cv2.imshow('face Detection',image)\n",
    "    cv2.waitKey(0)\n",
    "    \n",
    "cv2.destroyAllWindows()"
   ]
  },
  {
   "cell_type": "markdown",
   "id": "9b737697-b5d5-4fd3-950b-9dd7161b9622",
   "metadata": {},
   "source": []
  },
  {
   "cell_type": "code",
   "execution_count": null,
   "id": "c0cef140-85b0-444a-bcab-91e0a3853ef3",
   "metadata": {},
   "outputs": [],
   "source": []
  },
  {
   "cell_type": "code",
   "execution_count": null,
   "id": "0687900b-9aae-4b7d-b771-7d03991cc7e8",
   "metadata": {},
   "outputs": [],
   "source": []
  },
  {
   "cell_type": "code",
   "execution_count": null,
   "id": "a89ac6e4-27de-4015-abb7-b24cfdade14f",
   "metadata": {},
   "outputs": [],
   "source": []
  }
 ],
 "metadata": {
  "kernelspec": {
   "display_name": "Python 3 (ipykernel)",
   "language": "python",
   "name": "python3"
  },
  "language_info": {
   "codemirror_mode": {
    "name": "ipython",
    "version": 3
   },
   "file_extension": ".py",
   "mimetype": "text/x-python",
   "name": "python",
   "nbconvert_exporter": "python",
   "pygments_lexer": "ipython3",
   "version": "3.11.7"
  }
 },
 "nbformat": 4,
 "nbformat_minor": 5
}
