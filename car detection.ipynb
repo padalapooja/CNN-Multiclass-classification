{
 "cells": [
  {
   "cell_type": "markdown",
   "id": "f5b1588c-7dd2-4fa9-ab22-8eeb5c5cb864",
   "metadata": {},
   "source": [
    "## Car Detection"
   ]
  },
  {
   "cell_type": "code",
   "execution_count": null,
   "id": "25265e40-732c-48a3-9d99-81fda5a02867",
   "metadata": {},
   "outputs": [],
   "source": [
    "import cv2\n",
    "import time\n",
    "import numpy as np\n",
    "\n",
    "# Create our body classifier\n",
    "car_classifier = cv2.CascadeClassifier(\"C:\\\\Users\\\\POOJA\\\\Downloads\\\\13th- intro to cv2\\\\13th- intro to cv2\\\\open cv -- practicle\\\\Haarcascades\\\\haarcascade_car.xml\")\n",
    "\n",
    "# Initiate video capture for video file\n",
    "cap = cv2.VideoCapture(\"C:\\\\Users\\\\POOJA\\\\Downloads\\\\854671-hd_1920_1080_25fps.mp4\")\n",
    "\n",
    "\n",
    "\n",
    "# Loop once video is successfully loaded\n",
    "while cap.isOpened():\n",
    "    \n",
    "    time.sleep(.05)\n",
    "    # Read first frame\n",
    "    ret, frame = cap.read()\n",
    "    gray = cv2.cvtColor(frame, cv2.COLOR_BGR2GRAY)\n",
    "   \n",
    "    # Pass frame to our car classifier\n",
    "    cars = car_classifier.detectMultiScale(gray, 1.4, 2)\n",
    "    \n",
    "    # Extract bounding boxes for any bodies identified\n",
    "    for (x,y,w,h) in cars:\n",
    "        cv2.rectangle(frame, (x, y), (x+w, y+h), (0, 255, 255), 2)\n",
    "        cv2.imshow('Cars', frame)\n",
    "\n",
    "    if cv2.waitKey(1) == 13: #13 is the Enter Key\n",
    "        break\n",
    "\n",
    "cap.release()\n",
    "cv2.destroyAllWindows()\n",
    "cv2.imwrite('output.mp4',input)"
   ]
  },
  {
   "cell_type": "code",
   "execution_count": null,
   "id": "513823f4-cd7a-413c-bcd2-cc5f4d870966",
   "metadata": {},
   "outputs": [],
   "source": []
  },
  {
   "cell_type": "code",
   "execution_count": null,
   "id": "585fbf47-8cd9-4493-be4b-b77ca72e1944",
   "metadata": {},
   "outputs": [],
   "source": []
  },
  {
   "cell_type": "code",
   "execution_count": null,
   "id": "6858eda7-aa40-4fe6-bd87-b4e4abafe763",
   "metadata": {},
   "outputs": [],
   "source": []
  },
  {
   "cell_type": "code",
   "execution_count": null,
   "id": "f4a256e2-2def-4df7-9f54-5072d5b43d52",
   "metadata": {},
   "outputs": [],
   "source": []
  },
  {
   "cell_type": "code",
   "execution_count": null,
   "id": "429f467d-c98a-4286-8f96-7baa4fee39ec",
   "metadata": {},
   "outputs": [],
   "source": []
  },
  {
   "cell_type": "code",
   "execution_count": null,
   "id": "40f9bd29-c393-4429-8bce-4970ff161d89",
   "metadata": {},
   "outputs": [],
   "source": []
  }
 ],
 "metadata": {
  "kernelspec": {
   "display_name": "Python 3 (ipykernel)",
   "language": "python",
   "name": "python3"
  },
  "language_info": {
   "codemirror_mode": {
    "name": "ipython",
    "version": 3
   },
   "file_extension": ".py",
   "mimetype": "text/x-python",
   "name": "python",
   "nbconvert_exporter": "python",
   "pygments_lexer": "ipython3",
   "version": "3.11.7"
  }
 },
 "nbformat": 4,
 "nbformat_minor": 5
}
